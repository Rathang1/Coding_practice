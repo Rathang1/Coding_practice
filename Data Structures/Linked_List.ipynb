{
  "nbformat": 4,
  "nbformat_minor": 0,
  "metadata": {
    "colab": {
      "name": "Linked_List.ipynb",
      "provenance": []
    },
    "kernelspec": {
      "name": "python3",
      "display_name": "Python 3"
    },
    "language_info": {
      "name": "python"
    }
  },
  "cells": [
    {
      "cell_type": "markdown",
      "source": [
        "## Linked List\n",
        "\n",
        "A linked list is a _data structure_ used for storing a sequence of elements. It's data with some structure (the sequence).\n",
        "\n",
        "![](https://cdn.programiz.com/sites/tutorial2program/files/linked-list-concept_0.png)\n",
        "\n",
        "We'll implement linked lists which support the following operations:\n",
        "\n",
        "- Create a list with given elements\n",
        "- Display the elements in a list\n",
        "- Find the number of elements in a list\n",
        "- Retrieve the element at a given position\n",
        "- Add or remove element(s)\n",
        "- (can you think of any more?)"
      ],
      "metadata": {
        "id": "0Dr4wIuj-B_j"
      }
    },
    {
      "cell_type": "code",
      "source": [
        "class Node():\n",
        "  def __init__(self,data=0,next=None):\n",
        "    self.data = data\n",
        "    self.next = next"
      ],
      "metadata": {
        "id": "eBxmzeHq-BCD"
      },
      "execution_count": 5,
      "outputs": []
    },
    {
      "cell_type": "code",
      "source": [
        "class LinkedList():\n",
        "  def __init__(self):\n",
        "    self.head = None\n",
        "  \n",
        "  def append(self,value):\n",
        "    if self.head == None:\n",
        "      self.head = Node(value)\n",
        "    else:\n",
        "      current = self.head\n",
        "      while current.next!=None:\n",
        "        current = current.next\n",
        "      current.next = Node(value)\n",
        "\n",
        "  def display(self):\n",
        "    if self.head is None:\n",
        "      print(\"Empty list\")\n",
        "    else:\n",
        "      current = self.head\n",
        "      while current != None:\n",
        "        print(current.data)\n",
        "        current = current.next"
      ],
      "metadata": {
        "id": "E1oErPD5-iCZ"
      },
      "execution_count": 14,
      "outputs": []
    },
    {
      "cell_type": "code",
      "source": [
        "list2 = LinkedList()\n",
        "list2.append(2)\n",
        "list2.append(3)\n",
        "list2.append(5)"
      ],
      "metadata": {
        "id": "ppLvdmdv-ixz"
      },
      "execution_count": 15,
      "outputs": []
    },
    {
      "cell_type": "code",
      "source": [
        "list2.head.data, list2.head.next.data, list2.head.next.next.data"
      ],
      "metadata": {
        "colab": {
          "base_uri": "https://localhost:8080/"
        },
        "id": "KaL1lx1ZBDhs",
        "outputId": "4046ad1c-37e6-4cfd-9ec4-3027a3322366"
      },
      "execution_count": 16,
      "outputs": [
        {
          "output_type": "execute_result",
          "data": {
            "text/plain": [
              "(2, 3, 5)"
            ]
          },
          "metadata": {},
          "execution_count": 16
        }
      ]
    },
    {
      "cell_type": "code",
      "source": [
        "list2.display()"
      ],
      "metadata": {
        "colab": {
          "base_uri": "https://localhost:8080/"
        },
        "id": "rNgN30lpBFk6",
        "outputId": "84e91a0a-64d2-473a-c7d3-9ead063da1f0"
      },
      "execution_count": 17,
      "outputs": [
        {
          "output_type": "stream",
          "name": "stdout",
          "text": [
            "2\n",
            "3\n",
            "5\n"
          ]
        }
      ]
    },
    {
      "cell_type": "markdown",
      "source": [
        "# Reversing the Linked List"
      ],
      "metadata": {
        "id": "NoOSBfYDCktA"
      }
    },
    {
      "cell_type": "code",
      "source": [
        "def reverse(l):\n",
        "  if l.head is None:\n",
        "    return\n",
        "  current = l.head\n",
        "  prev = None\n",
        "  while current != None:\n",
        "    #Find Next Node to be changed\n",
        "    next = current.next\n",
        "    #Change current Node to point in reverse\n",
        "    current.next = prev\n",
        "    #update prev & current\n",
        "    prev = current\n",
        "    current = next\n",
        "  l.head = prev "
      ],
      "metadata": {
        "id": "_Y7ExSMRBdl8"
      },
      "execution_count": 22,
      "outputs": []
    },
    {
      "cell_type": "code",
      "source": [
        "reverse(list2)"
      ],
      "metadata": {
        "id": "np3hsWw4DOlf"
      },
      "execution_count": 29,
      "outputs": []
    },
    {
      "cell_type": "code",
      "source": [
        "list2.display()"
      ],
      "metadata": {
        "colab": {
          "base_uri": "https://localhost:8080/"
        },
        "id": "JcsNPkPKDQ7O",
        "outputId": "8a857444-7323-4ad3-aa48-95ce08a4b098"
      },
      "execution_count": 30,
      "outputs": [
        {
          "output_type": "stream",
          "name": "stdout",
          "text": [
            "2\n",
            "3\n",
            "5\n"
          ]
        }
      ]
    },
    {
      "cell_type": "code",
      "source": [
        "reverse(list2)"
      ],
      "metadata": {
        "id": "q4KFVWOjGfRL"
      },
      "execution_count": 31,
      "outputs": []
    },
    {
      "cell_type": "code",
      "source": [
        "list2.display()"
      ],
      "metadata": {
        "colab": {
          "base_uri": "https://localhost:8080/"
        },
        "id": "xG1cFtPvGldy",
        "outputId": "6d57fb68-fbe9-4bd6-e37c-d522fbb15822"
      },
      "execution_count": 32,
      "outputs": [
        {
          "output_type": "stream",
          "name": "stdout",
          "text": [
            "5\n",
            "3\n",
            "2\n"
          ]
        }
      ]
    },
    {
      "cell_type": "code",
      "source": [
        ""
      ],
      "metadata": {
        "id": "VCTLI_BNGmnj"
      },
      "execution_count": null,
      "outputs": []
    }
  ]
}