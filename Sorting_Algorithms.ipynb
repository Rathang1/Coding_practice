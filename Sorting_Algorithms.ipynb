{
  "nbformat": 4,
  "nbformat_minor": 0,
  "metadata": {
    "colab": {
      "name": "Sorting Algorithms.ipynb",
      "provenance": []
    },
    "kernelspec": {
      "name": "python3",
      "display_name": "Python 3"
    },
    "language_info": {
      "name": "python"
    }
  },
  "cells": [
    {
      "cell_type": "markdown",
      "source": [
        "#Bubble sort"
      ],
      "metadata": {
        "id": "YP-ChMaqNZUM"
      }
    },
    {
      "cell_type": "code",
      "execution_count": null,
      "metadata": {
        "id": "t2Sic6tmK6RQ"
      },
      "outputs": [],
      "source": [
        "def sort(nums):\n",
        "   nums = list(nums)\n",
        "   if len(nums) == 0:\n",
        "     return([])\n",
        "   l=[]\n",
        "   for _ in range(len(nums)-1):\n",
        "    for i in range(len(nums)-1): \n",
        "      if nums[i] > nums[i+1]:\n",
        "        nums[i],nums[i+1] = nums[i+1], nums[i]\n",
        "   return nums"
      ]
    },
    {
      "cell_type": "code",
      "source": [
        "sort([6,6,5,4,3,2,2,1])"
      ],
      "metadata": {
        "colab": {
          "base_uri": "https://localhost:8080/"
        },
        "id": "DQzyzC7VMGA2",
        "outputId": "be43db85-a394-40a2-b2e5-7b4af4743cd4"
      },
      "execution_count": null,
      "outputs": [
        {
          "output_type": "execute_result",
          "data": {
            "text/plain": [
              "[1, 2, 2, 3, 4, 5, 6, 6]"
            ]
          },
          "metadata": {},
          "execution_count": 20
        }
      ]
    },
    {
      "cell_type": "code",
      "source": [
        "list(range(10))"
      ],
      "metadata": {
        "colab": {
          "base_uri": "https://localhost:8080/"
        },
        "id": "eF4M7B4iQZu3",
        "outputId": "423e689b-32a0-4d3d-8c82-b88b5144d8d0"
      },
      "execution_count": null,
      "outputs": [
        {
          "output_type": "execute_result",
          "data": {
            "text/plain": [
              "[0, 1, 2, 3, 4, 5, 6, 7, 8, 9]"
            ]
          },
          "metadata": {},
          "execution_count": 22
        }
      ]
    },
    {
      "cell_type": "code",
      "source": [
        "import random\n",
        "\n",
        "in_list = list(range(10000))\n",
        "random.shuffle(in_list)\n",
        "in_list"
      ],
      "metadata": {
        "id": "PVphGX5CMHQ_"
      },
      "execution_count": null,
      "outputs": []
    },
    {
      "cell_type": "code",
      "source": [
        "sort(in_list)"
      ],
      "metadata": {
        "colab": {
          "base_uri": "https://localhost:8080/",
          "height": 171
        },
        "id": "2o3wZYxmQfTF",
        "outputId": "5f01d349-a437-4490-c756-45d0a2545bb4"
      },
      "execution_count": null,
      "outputs": [
        {
          "output_type": "error",
          "ename": "NameError",
          "evalue": "ignored",
          "traceback": [
            "\u001b[0;31m---------------------------------------------------------------------------\u001b[0m",
            "\u001b[0;31mNameError\u001b[0m                                 Traceback (most recent call last)",
            "\u001b[0;32m<ipython-input-19-e454769deca0>\u001b[0m in \u001b[0;36m<module>\u001b[0;34m()\u001b[0m\n\u001b[0;32m----> 1\u001b[0;31m \u001b[0msort\u001b[0m\u001b[0;34m(\u001b[0m\u001b[0min_list\u001b[0m\u001b[0;34m)\u001b[0m\u001b[0;34m\u001b[0m\u001b[0;34m\u001b[0m\u001b[0m\n\u001b[0m",
            "\u001b[0;31mNameError\u001b[0m: name 'sort' is not defined"
          ]
        }
      ]
    },
    {
      "cell_type": "markdown",
      "source": [
        "# Insertion Sort"
      ],
      "metadata": {
        "id": "XH19MTw2S5cG"
      }
    },
    {
      "cell_type": "code",
      "source": [
        "def insertion_sort(nums):\n",
        "   nums = list(nums)\n",
        "   for i in range(len(nums)):\n",
        "     curr = nums.pop(i)\n",
        "     j = i-1\n",
        "     while j>= 0 and nums[j]>curr:\n",
        "       j-=1\n",
        "     nums.insert(j+1, curr)\n",
        "   return nums"
      ],
      "metadata": {
        "id": "n91QNElmS4mj"
      },
      "execution_count": null,
      "outputs": []
    },
    {
      "cell_type": "code",
      "source": [
        "insertion_sort(in_list)"
      ],
      "metadata": {
        "id": "qp1OUToeQign"
      },
      "execution_count": null,
      "outputs": []
    },
    {
      "cell_type": "markdown",
      "source": [
        "#Merge Sort"
      ],
      "metadata": {
        "id": "1BFISO0eXn2G"
      }
    },
    {
      "cell_type": "code",
      "source": [
        "def merge(nums1, nums2):\n",
        "  merged = []\n",
        "  i,j = 0,0\n",
        "\n",
        "  while i < len(nums1) and j<len(nums2):\n",
        "    if nums1[i] <= nums2[j]:\n",
        "      merged.append(nums1[i])\n",
        "      i+=1\n",
        "    else:\n",
        "      merged.append(nums2[j])\n",
        "      j+=1\n",
        "\n",
        "  nums1_end = nums1[i:]\n",
        "  nums2_end = nums2[j:]\n",
        "\n",
        "  return merged + nums1_end + nums2_end\n",
        "  "
      ],
      "metadata": {
        "id": "Fl6M4un-acFi"
      },
      "execution_count": null,
      "outputs": []
    },
    {
      "cell_type": "code",
      "source": [
        "merge([2,4,6,8,10], [1,3,5,7,9,11])"
      ],
      "metadata": {
        "colab": {
          "base_uri": "https://localhost:8080/"
        },
        "id": "JHwfQ7K-J1qp",
        "outputId": "ba8ffe03-dd9a-4ef9-9410-67d0c2a76e62"
      },
      "execution_count": null,
      "outputs": [
        {
          "output_type": "execute_result",
          "data": {
            "text/plain": [
              "[1, 2, 3, 4, 5, 6, 7, 8, 9, 10, 11]"
            ]
          },
          "metadata": {},
          "execution_count": 10
        }
      ]
    },
    {
      "cell_type": "code",
      "source": [
        "def Merge_sort(nums):\n",
        "  nums = list(nums)\n",
        "  if len(nums)<= 1:\n",
        "    return nums\n",
        "  mid = len(nums)//2\n",
        "\n",
        "  left = nums[:mid]\n",
        "  right = nums[mid:]\n",
        "\n",
        "  left_sorted, right_sorted =   Merge_sort(left), Merge_sort(right)\n",
        "\n",
        "  sorted_nums = merge(left_sorted,right_sorted)\n",
        "  return sorted_nums"
      ],
      "metadata": {
        "id": "ZujYs7QpXmuZ"
      },
      "execution_count": null,
      "outputs": []
    },
    {
      "cell_type": "code",
      "source": [
        "Merge_sort([1,2,3,6,8,6])"
      ],
      "metadata": {
        "colab": {
          "base_uri": "https://localhost:8080/"
        },
        "id": "EBWlB2A9WLNy",
        "outputId": "296e6b30-a4a2-4e66-a1f9-432a7448e215"
      },
      "execution_count": null,
      "outputs": [
        {
          "output_type": "execute_result",
          "data": {
            "text/plain": [
              "[1, 2, 3, 6, 6, 8]"
            ]
          },
          "metadata": {},
          "execution_count": 12
        }
      ]
    },
    {
      "cell_type": "code",
      "source": [
        "# Merge sort can be expensive as it requires memory allocation"
      ],
      "metadata": {
        "id": "LNbxSd6JYQVj"
      },
      "execution_count": null,
      "outputs": []
    },
    {
      "cell_type": "markdown",
      "source": [
        "# Quick sort"
      ],
      "metadata": {
        "id": "cEqHeqWMTHhJ"
      }
    },
    {
      "cell_type": "code",
      "source": [
        "def partition(nums,start=0,end=None):\n",
        "  if end is None:\n",
        "    end = len(nums)-1\n",
        "  l, r = start, end-1\n",
        "\n",
        "  while r>l:\n",
        "    if nums[l]<=nums[end]:\n",
        "      l+=1\n",
        "    elif nums[r]>nums[end]:\n",
        "      r -= 1\n",
        "    \n",
        "    else:\n",
        "      nums[l],nums[r] = nums[r],nums[l]\n",
        "\n",
        "  if nums[l]> nums[end]:\n",
        "    nums[l], nums[end] = nums[end], nums[l]\n",
        "    return l\n",
        "  else:\n",
        "    return end\n"
      ],
      "metadata": {
        "id": "kSrC8EF_TuVp"
      },
      "execution_count": null,
      "outputs": []
    },
    {
      "cell_type": "code",
      "source": [
        "def quicksort(nums, start=0, end=None):\n",
        "  # if len(nums)<= 1:\n",
        "  #   return nums\n",
        "  if end is None:\n",
        "    nums = list(nums)\n",
        "    end = len(nums)-1\n",
        "  \n",
        "  if start < end:\n",
        "    pivot = partition(nums,start,end)\n",
        "    quicksort(nums,start, pivot-1)\n",
        "    quicksort(nums, pivot+1, end)\n",
        "  \n",
        "  return nums"
      ],
      "metadata": {
        "id": "l2MWKPPlTGhs"
      },
      "execution_count": null,
      "outputs": []
    },
    {
      "cell_type": "code",
      "source": [
        "quicksort(in_list)"
      ],
      "metadata": {
        "id": "ntfU4GNba7Dy"
      },
      "execution_count": null,
      "outputs": []
    },
    {
      "cell_type": "code",
      "source": [
        ""
      ],
      "metadata": {
        "id": "mNdaHH9wd-UO"
      },
      "execution_count": null,
      "outputs": []
    }
  ]
}