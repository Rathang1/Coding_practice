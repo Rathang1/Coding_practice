{
  "nbformat": 4,
  "nbformat_minor": 0,
  "metadata": {
    "colab": {
      "name": "Python(Algo&DS).ipynb",
      "provenance": [],
      "collapsed_sections": []
    },
    "kernelspec": {
      "name": "python3",
      "display_name": "Python 3"
    },
    "language_info": {
      "name": "python"
    }
  },
  "cells": [
    {
      "cell_type": "markdown",
      "source": [
        "1. BINARY SEARCH TO FIND THE FIRST OCCURANCE OF A TARGET ELEMENT IN A LIST <br>\n",
        "O(log(N))<br>\n",
        "Requires input as sorted array"
      ],
      "metadata": {
        "id": "NeX7IEZUsAEe"
      }
    },
    {
      "cell_type": "code",
      "execution_count": null,
      "metadata": {
        "id": "UYKMhVb3op61"
      },
      "outputs": [],
      "source": [
        "def test_location(nums,target,mid):\n",
        "  if nums[mid] == target:\n",
        "    if mid-1>=0 and nums[mid-1]==target:\n",
        "      return 'left'\n",
        "    else:\n",
        "      return 'match'\n",
        "  elif nums[mid]<target:\n",
        "    return 'right'\n",
        "  else:\n",
        "    return 'left'\n",
        "  "
      ]
    },
    {
      "cell_type": "code",
      "source": [
        "def locator(nums,target):\n",
        "  print(nums)\n",
        "  low = 0\n",
        "  high = len(nums)-1\n",
        "  while low<high:\n",
        "    mid = (low+high)//2\n",
        "    result = test_location(nums,target,mid)\n",
        "    # we will get where to look\n",
        "    if result == 'match':\n",
        "      return mid\n",
        "    elif result == 'left':\n",
        "      high = mid-1\n",
        "    else:\n",
        "      low = mid+1\n",
        "\n",
        "  \n",
        "  return -1\n",
        "\n",
        "  "
      ],
      "metadata": {
        "id": "cjt3K6Sso31M"
      },
      "execution_count": null,
      "outputs": []
    },
    {
      "cell_type": "code",
      "source": [
        "locator([0,0,0,2,2,2,3,6,6,6,6,6,8],6)"
      ],
      "metadata": {
        "colab": {
          "base_uri": "https://localhost:8080/"
        },
        "id": "9gymbXoqqzBc",
        "outputId": "a1226a07-3b23-4b53-8142-529afcd72172"
      },
      "execution_count": null,
      "outputs": [
        {
          "output_type": "stream",
          "name": "stdout",
          "text": [
            "[0, 0, 0, 2, 2, 2, 3, 6, 6, 6, 6, 6, 8]\n"
          ]
        },
        {
          "output_type": "execute_result",
          "data": {
            "text/plain": [
              "7"
            ]
          },
          "metadata": {},
          "execution_count": 8
        }
      ]
    },
    {
      "cell_type": "code",
      "source": [
        "locator([1,2,3,4,5,6,7],6)"
      ],
      "metadata": {
        "colab": {
          "base_uri": "https://localhost:8080/"
        },
        "id": "TKG8KyJRsJ-d",
        "outputId": "fcb385c2-83c6-4480-ec67-ea88a0fb6d12"
      },
      "execution_count": null,
      "outputs": [
        {
          "output_type": "stream",
          "name": "stdout",
          "text": [
            "[1, 2, 3, 4, 5, 6, 7]\n"
          ]
        },
        {
          "output_type": "execute_result",
          "data": {
            "text/plain": [
              "5"
            ]
          },
          "metadata": {},
          "execution_count": 10
        }
      ]
    },
    {
      "cell_type": "markdown",
      "source": [
        "2. LINEAR SEARCH <br>\n",
        "O(N) as we check all elemnts"
      ],
      "metadata": {
        "id": "Xs0ZVZiFyTJt"
      }
    },
    {
      "cell_type": "code",
      "source": [
        ""
      ],
      "metadata": {
        "id": "n3xgc3QDyRnF"
      },
      "execution_count": null,
      "outputs": []
    }
  ]
}